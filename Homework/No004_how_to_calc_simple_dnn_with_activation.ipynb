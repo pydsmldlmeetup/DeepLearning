{
 "cells": [
  {
   "cell_type": "markdown",
   "metadata": {},
   "source": [
    "# Deep Neural Network"
   ]
  },
  {
   "cell_type": "markdown",
   "metadata": {},
   "source": [
    "![test](https://github.com/pydsmldlmeetup/DeepLearning/blob/master/data/image_002_deep_neural_network_with_activation.PNG?raw=true)"
   ]
  },
  {
   "cell_type": "markdown",
   "metadata": {},
   "source": [
    "### network architecture\n",
    "・first layer = input layer<br>\n",
    "・second layer = hidden layer with sigmoid<br>\n",
    "・third layer = hidden layer with sigmoid<br>\n",
    "・last layer = output layer with (logistic) sigmoid <br>"
   ]
  },
  {
   "cell_type": "code",
   "execution_count": 7,
   "metadata": {},
   "outputs": [],
   "source": [
    "import numpy as np\n",
    "import math\n",
    "\n",
    "e = math.e # e means \"Napier's constant\"\n",
    "\n",
    "def sigmoid(x):\n",
    "    a = 1 / (1 + e**-x)\n",
    "    \n",
    "    # sigmoid returns value 0 < value < 1\n",
    "    return a"
   ]
  },
  {
   "cell_type": "code",
   "execution_count": 8,
   "metadata": {},
   "outputs": [],
   "source": [
    "# create input data X\n",
    "X = np.random.random((2, 1))\n",
    "\n",
    "# initialize w (weight) \n",
    "w1 = np.random.random((2, 3))\n",
    "w2 = np.random.random((3, 3))\n",
    "w3 = np.random.random(3)"
   ]
  },
  {
   "cell_type": "code",
   "execution_count": 9,
   "metadata": {},
   "outputs": [
    {
     "name": "stdout",
     "output_type": "stream",
     "text": [
      "[0.5406812  0.67926614 0.57014178]\n"
     ]
    }
   ],
   "source": [
    "h1 = X * w1\n",
    "h1 = sigmoid(np.sum(h1, axis=0))\n",
    "print(h1)"
   ]
  },
  {
   "cell_type": "code",
   "execution_count": 10,
   "metadata": {},
   "outputs": [
    {
     "name": "stdout",
     "output_type": "stream",
     "text": [
      "[0.75711834 0.72265303 0.71489374]\n"
     ]
    }
   ],
   "source": [
    "h2 = h1 * w2\n",
    "h2 = sigmoid(np.sum(h2, axis=0))\n",
    "print(h2)"
   ]
  },
  {
   "cell_type": "code",
   "execution_count": 12,
   "metadata": {},
   "outputs": [
    {
     "name": "stdout",
     "output_type": "stream",
     "text": [
      "0.7479296864543098\n"
     ]
    }
   ],
   "source": [
    "y = h2 * w3\n",
    "y = sigmoid(np.sum(y))\n",
    "print(y)"
   ]
  }
 ],
 "metadata": {
  "kernelspec": {
   "display_name": "Python 3",
   "language": "python",
   "name": "python3"
  },
  "language_info": {
   "codemirror_mode": {
    "name": "ipython",
    "version": 3
   },
   "file_extension": ".py",
   "mimetype": "text/x-python",
   "name": "python",
   "nbconvert_exporter": "python",
   "pygments_lexer": "ipython3",
   "version": "3.6.4"
  }
 },
 "nbformat": 4,
 "nbformat_minor": 2
}
