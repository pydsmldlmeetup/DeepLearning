{
 "cells": [
  {
   "cell_type": "code",
   "execution_count": 6,
   "metadata": {},
   "outputs": [
    {
     "name": "stdout",
     "output_type": "stream",
     "text": [
      "---weight---\n",
      "[[0.38091693]\n",
      " [0.48540715]\n",
      " [0.37156921]\n",
      " [0.01017093]\n",
      " [0.35562565]]\n",
      "---input_data---\n",
      "[0.86793315 0.5938992  0.29201126 0.72412376 0.56123275]\n"
     ]
    }
   ],
   "source": [
    "import numpy as np\n",
    "\n",
    "weight = np.random.rand(5, 1)\n",
    "input_data = np.random.rand(5)\n",
    "\n",
    "print(\"---weight---\")\n",
    "print(weight)\n",
    "\n",
    "print(\"---input_data---\")\n",
    "print(input_data)"
   ]
  },
  {
   "cell_type": "code",
   "execution_count": 9,
   "metadata": {},
   "outputs": [
    {
     "name": "stdout",
     "output_type": "stream",
     "text": [
      "---matrix calculation---\n",
      "[0.93434951]\n"
     ]
    }
   ],
   "source": [
    "print(\"---matrix calculation---\")\n",
    "print(np.matmul(input_data, weight))"
   ]
  }
 ],
 "metadata": {
  "kernelspec": {
   "display_name": "Python 3",
   "language": "python",
   "name": "python3"
  },
  "language_info": {
   "codemirror_mode": {
    "name": "ipython",
    "version": 3
   },
   "file_extension": ".py",
   "mimetype": "text/x-python",
   "name": "python",
   "nbconvert_exporter": "python",
   "pygments_lexer": "ipython3",
   "version": "3.6.4"
  }
 },
 "nbformat": 4,
 "nbformat_minor": 2
}
