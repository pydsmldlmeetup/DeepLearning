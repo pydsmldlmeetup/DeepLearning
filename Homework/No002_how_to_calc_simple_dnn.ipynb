{
 "cells": [
  {
   "cell_type": "markdown",
   "metadata": {},
   "source": [
    "# Deep Neural Network"
   ]
  },
  {
   "cell_type": "markdown",
   "metadata": {},
   "source": [
    "![test](https://github.com/pydsmldlmeetup/DeepLearning/blob/master/data/image_001_deep_neural_network.PNG?raw=true)"
   ]
  },
  {
   "cell_type": "markdown",
   "metadata": {},
   "source": [
    "### network architecture\n",
    "・first layer = input layer (2 nodes)<br>\n",
    "・second layer = hidden layer (3 nodes)<br>\n",
    "・third layer = hidden layer (3 nodes)<br>\n",
    "・last layer = output layer (1 nodes)<br>"
   ]
  },
  {
   "cell_type": "code",
   "execution_count": 13,
   "metadata": {},
   "outputs": [
    {
     "name": "stdout",
     "output_type": "stream",
     "text": [
      "---- w1 ----\n",
      "[[0.38491364 0.67798837 0.39503721]\n",
      " [0.44112948 0.49428774 0.51738987]]\n",
      "\n",
      "---- w2 ----\n",
      "[[0.34741111 0.36190585 0.990897  ]\n",
      " [0.6385628  0.94188125 0.65343182]\n",
      " [0.20093324 0.27013368 0.66401873]]\n",
      "\n",
      "---- w3 ----\n",
      "[0.38060347 0.25590247 0.39767622]\n"
     ]
    }
   ],
   "source": [
    "import numpy as np\n",
    "\n",
    "# create input data X\n",
    "X = np.random.random((2, 1))\n",
    "\n",
    "# initialize w (weight) \n",
    "w1 = np.random.random((2, 3))\n",
    "w2 = np.random.random((3, 3))\n",
    "w3 = np.random.random(3)\n",
    "\n",
    "print(\"---- w1 ----\")\n",
    "print(w1)\n",
    "print(\"\\n---- w2 ----\")\n",
    "print(w2)\n",
    "print(\"\\n---- w3 ----\")\n",
    "print(w3)\n"
   ]
  },
  {
   "cell_type": "code",
   "execution_count": 17,
   "metadata": {},
   "outputs": [
    {
     "name": "stdout",
     "output_type": "stream",
     "text": [
      "[0.68678517 0.98706129 0.75576738]\n"
     ]
    }
   ],
   "source": [
    "h1 = X * w1\n",
    "h1 = np.sum(h1, axis=0)\n",
    "print(h1)"
   ]
  },
  {
   "cell_type": "code",
   "execution_count": 20,
   "metadata": {},
   "outputs": [
    {
     "name": "stdout",
     "output_type": "stream",
     "text": [
      "[0.81515023 1.55355628 1.74457376]\n"
     ]
    }
   ],
   "source": [
    "h2 = h1 * w2\n",
    "h2 = np.sum(h2, axis=0)\n",
    "print(h2)"
   ]
  },
  {
   "cell_type": "code",
   "execution_count": 24,
   "metadata": {},
   "outputs": [
    {
     "name": "stdout",
     "output_type": "stream",
     "text": [
      "1.401583388441413\n"
     ]
    }
   ],
   "source": [
    "y = h2 * w3\n",
    "y = np.sum(y)\n",
    "print(y)"
   ]
  }
 ],
 "metadata": {
  "kernelspec": {
   "display_name": "Python 3",
   "language": "python",
   "name": "python3"
  },
  "language_info": {
   "codemirror_mode": {
    "name": "ipython",
    "version": 3
   },
   "file_extension": ".py",
   "mimetype": "text/x-python",
   "name": "python",
   "nbconvert_exporter": "python",
   "pygments_lexer": "ipython3",
   "version": "3.6.4"
  }
 },
 "nbformat": 4,
 "nbformat_minor": 2
}
